{
 "cells": [
  {
   "cell_type": "code",
   "execution_count": 1,
   "metadata": {},
   "outputs": [],
   "source": [
    "import pandas as pd\n",
    "import matplotlib.pyplot as plt\n",
    "import numpy as np\n",
    "from datetime import timedelta"
   ]
  },
  {
   "cell_type": "markdown",
   "metadata": {},
   "source": [
    "### Carga de datos"
   ]
  },
  {
   "cell_type": "code",
   "execution_count": 2,
   "metadata": {},
   "outputs": [],
   "source": [
    "bases = pd.read_csv('C:/Users/asus/Desktop/data/bases_bicimad.csv', sep=';', encoding='ISO-8859-1')\n",
    "bicis = pd.read_csv('C:/Users/asus/Desktop/data/bike_data.csv')"
   ]
  },
  {
   "cell_type": "markdown",
   "metadata": {},
   "source": [
    "Unimos ambos dataframes en uno solo"
   ]
  },
  {
   "cell_type": "code",
   "execution_count": 3,
   "metadata": {},
   "outputs": [],
   "source": [
    "bicis['idunplug_station'] = bicis['idunplug_station'].astype(str)\n",
    "df = bicis.merge(bases, how='left', left_on='idunplug_station', right_on='Número')"
   ]
  },
  {
   "cell_type": "markdown",
   "metadata": {},
   "source": [
    "### Preprocesado de las variables"
   ]
  },
  {
   "cell_type": "markdown",
   "metadata": {},
   "source": [
    "Como vimos en el analisis exploratorio, consideraremos outliers los registros cuyo tiempo de viaje sea superior a 2000 segundos"
   ]
  },
  {
   "cell_type": "markdown",
   "metadata": {},
   "source": [
    "Vamos a crear variables nuevas a partir del tipo de usuario y de la edad, que nos indiquen agrupando por el dia y la hora en la que se efectúa el trayecto nos indique el porcentaje de usuarios para cada tipo y rango"
   ]
  },
  {
   "cell_type": "markdown",
   "metadata": {},
   "source": [
    "Extraemos los el dia y la hora a partir de la fecha de desenganche"
   ]
  },
  {
   "cell_type": "code",
   "execution_count": 4,
   "metadata": {},
   "outputs": [],
   "source": [
    "bicis['fechas'] = pd.to_datetime(bicis.unplug_hourTime)\n",
    "bicis['fechas_utc2'] = bicis.fechas+timedelta(hours=2)\n",
    "bicis['day'] = bicis.fechas_utc2.apply(lambda x: x.day)\n",
    "bicis['hour'] = bicis.fechas_utc2.apply(lambda x: x.hour)"
   ]
  },
  {
   "cell_type": "markdown",
   "metadata": {},
   "source": [
    "Como el dia de la semana es importante para ver el número de trayectos realizados, vamos a crear una nueva variable que nos indique si un dia es fin de semana (1) o no (0)"
   ]
  },
  {
   "cell_type": "code",
   "execution_count": 5,
   "metadata": {},
   "outputs": [],
   "source": [
    "bicis['finde'] = bicis.fechas_utc2.apply(lambda x: 1 if x.isoweekday()>5 else 0)"
   ]
  },
  {
   "cell_type": "markdown",
   "metadata": {},
   "source": [
    "Veamos la cantidad de trayectos agrupdos por dia y por hora"
   ]
  },
  {
   "cell_type": "code",
   "execution_count": 7,
   "metadata": {},
   "outputs": [
    {
     "data": {
      "text/html": [
       "<div>\n",
       "<style scoped>\n",
       "    .dataframe tbody tr th:only-of-type {\n",
       "        vertical-align: middle;\n",
       "    }\n",
       "\n",
       "    .dataframe tbody tr th {\n",
       "        vertical-align: top;\n",
       "    }\n",
       "\n",
       "    .dataframe thead th {\n",
       "        text-align: right;\n",
       "    }\n",
       "</style>\n",
       "<table border=\"1\" class=\"dataframe\">\n",
       "  <thead>\n",
       "    <tr style=\"text-align: right;\">\n",
       "      <th></th>\n",
       "      <th>day</th>\n",
       "      <th>hour</th>\n",
       "      <th>trayectos</th>\n",
       "    </tr>\n",
       "  </thead>\n",
       "  <tbody>\n",
       "    <tr>\n",
       "      <th>0</th>\n",
       "      <td>1</td>\n",
       "      <td>1</td>\n",
       "      <td>553</td>\n",
       "    </tr>\n",
       "    <tr>\n",
       "      <th>1</th>\n",
       "      <td>1</td>\n",
       "      <td>2</td>\n",
       "      <td>438</td>\n",
       "    </tr>\n",
       "    <tr>\n",
       "      <th>2</th>\n",
       "      <td>1</td>\n",
       "      <td>3</td>\n",
       "      <td>309</td>\n",
       "    </tr>\n",
       "    <tr>\n",
       "      <th>3</th>\n",
       "      <td>1</td>\n",
       "      <td>4</td>\n",
       "      <td>244</td>\n",
       "    </tr>\n",
       "    <tr>\n",
       "      <th>4</th>\n",
       "      <td>1</td>\n",
       "      <td>5</td>\n",
       "      <td>166</td>\n",
       "    </tr>\n",
       "    <tr>\n",
       "      <th>5</th>\n",
       "      <td>1</td>\n",
       "      <td>6</td>\n",
       "      <td>158</td>\n",
       "    </tr>\n",
       "    <tr>\n",
       "      <th>6</th>\n",
       "      <td>1</td>\n",
       "      <td>7</td>\n",
       "      <td>130</td>\n",
       "    </tr>\n",
       "    <tr>\n",
       "      <th>7</th>\n",
       "      <td>1</td>\n",
       "      <td>8</td>\n",
       "      <td>187</td>\n",
       "    </tr>\n",
       "    <tr>\n",
       "      <th>8</th>\n",
       "      <td>1</td>\n",
       "      <td>9</td>\n",
       "      <td>286</td>\n",
       "    </tr>\n",
       "    <tr>\n",
       "      <th>9</th>\n",
       "      <td>1</td>\n",
       "      <td>10</td>\n",
       "      <td>342</td>\n",
       "    </tr>\n",
       "  </tbody>\n",
       "</table>\n",
       "</div>"
      ],
      "text/plain": [
       "   day  hour  trayectos\n",
       "0    1     1        553\n",
       "1    1     2        438\n",
       "2    1     3        309\n",
       "3    1     4        244\n",
       "4    1     5        166\n",
       "5    1     6        158\n",
       "6    1     7        130\n",
       "7    1     8        187\n",
       "8    1     9        286\n",
       "9    1    10        342"
      ]
     },
     "execution_count": 7,
     "metadata": {},
     "output_type": "execute_result"
    }
   ],
   "source": [
    "df = bicis.groupby(['day', 'hour']).size().reset_index().rename(columns={0:'trayectos'})\n",
    "df.head(10)"
   ]
  },
  {
   "cell_type": "markdown",
   "metadata": {},
   "source": [
    "Generamos las nuevas variables a partir del rango y del tipo"
   ]
  },
  {
   "cell_type": "code",
   "execution_count": 8,
   "metadata": {},
   "outputs": [],
   "source": [
    "bicis['tipo0'] = np.where(bicis.user_type==0,1,0)\n",
    "bicis['tipo1'] = np.where(bicis.user_type==1,1,0)\n",
    "bicis['tipo2'] = np.where(bicis.user_type==2,1,0)\n",
    "bicis['tipo3'] = np.where(bicis.user_type==3,1,0)\n"
   ]
  },
  {
   "cell_type": "code",
   "execution_count": 9,
   "metadata": {},
   "outputs": [],
   "source": [
    "bicis['range0'] = np.where(bicis.ageRange==0,1,0)\n",
    "bicis['range1'] = np.where(bicis.ageRange==1,1,0)\n",
    "bicis['range2'] = np.where(bicis.ageRange==2,1,0)\n",
    "bicis['range3'] = np.where(bicis.ageRange==3,1,0)\n",
    "bicis['range4'] = np.where(bicis.ageRange==4,1,0)\n",
    "bicis['range5'] = np.where(bicis.ageRange==5,1,0)\n",
    "bicis['range6'] = np.where(bicis.ageRange==6,1,0)\n"
   ]
  },
  {
   "cell_type": "markdown",
   "metadata": {},
   "source": [
    "Sumamos las nuevas variables agrupadas por dia y hora para ver cantidades abolutas de cada una"
   ]
  },
  {
   "cell_type": "code",
   "execution_count": 10,
   "metadata": {},
   "outputs": [],
   "source": [
    "a1 = bicis.groupby(['day', 'hour']).agg({'tipo0':'sum', 'tipo1':'sum', 'tipo2':'sum', 'tipo3':'sum'}).reset_index()"
   ]
  },
  {
   "cell_type": "code",
   "execution_count": 11,
   "metadata": {},
   "outputs": [],
   "source": [
    "a2 = bicis.groupby(['day', 'hour']).agg({'range0':'sum', 'range1':'sum', 'range2':'sum', 'range3':'sum', 'range4': 'sum',\n",
    "                                        'range5': 'sum', 'range6': 'sum'}).reset_index()"
   ]
  },
  {
   "cell_type": "markdown",
   "metadata": {},
   "source": [
    "Y lo unimos con el dataframe que contiene el numero de trayectos"
   ]
  },
  {
   "cell_type": "code",
   "execution_count": 12,
   "metadata": {},
   "outputs": [],
   "source": [
    "df1 = df.merge(a1, how='left', on=['day', 'hour'])"
   ]
  },
  {
   "cell_type": "code",
   "execution_count": 13,
   "metadata": {},
   "outputs": [],
   "source": [
    "df2 = df1.merge(a2, how='left', on=['day', 'hour'])"
   ]
  },
  {
   "cell_type": "code",
   "execution_count": 14,
   "metadata": {},
   "outputs": [
    {
     "data": {
      "text/html": [
       "<div>\n",
       "<style scoped>\n",
       "    .dataframe tbody tr th:only-of-type {\n",
       "        vertical-align: middle;\n",
       "    }\n",
       "\n",
       "    .dataframe tbody tr th {\n",
       "        vertical-align: top;\n",
       "    }\n",
       "\n",
       "    .dataframe thead th {\n",
       "        text-align: right;\n",
       "    }\n",
       "</style>\n",
       "<table border=\"1\" class=\"dataframe\">\n",
       "  <thead>\n",
       "    <tr style=\"text-align: right;\">\n",
       "      <th></th>\n",
       "      <th>day</th>\n",
       "      <th>hour</th>\n",
       "      <th>trayectos</th>\n",
       "      <th>tipo0</th>\n",
       "      <th>tipo1</th>\n",
       "      <th>tipo2</th>\n",
       "      <th>tipo3</th>\n",
       "      <th>range0</th>\n",
       "      <th>range1</th>\n",
       "      <th>range2</th>\n",
       "      <th>range3</th>\n",
       "      <th>range4</th>\n",
       "      <th>range5</th>\n",
       "      <th>range6</th>\n",
       "    </tr>\n",
       "  </thead>\n",
       "  <tbody>\n",
       "    <tr>\n",
       "      <th>0</th>\n",
       "      <td>1</td>\n",
       "      <td>1</td>\n",
       "      <td>553</td>\n",
       "      <td>0</td>\n",
       "      <td>474</td>\n",
       "      <td>17</td>\n",
       "      <td>62</td>\n",
       "      <td>252</td>\n",
       "      <td>14</td>\n",
       "      <td>5</td>\n",
       "      <td>43</td>\n",
       "      <td>156</td>\n",
       "      <td>83</td>\n",
       "      <td>0</td>\n",
       "    </tr>\n",
       "    <tr>\n",
       "      <th>1</th>\n",
       "      <td>1</td>\n",
       "      <td>2</td>\n",
       "      <td>438</td>\n",
       "      <td>0</td>\n",
       "      <td>369</td>\n",
       "      <td>3</td>\n",
       "      <td>66</td>\n",
       "      <td>196</td>\n",
       "      <td>19</td>\n",
       "      <td>4</td>\n",
       "      <td>26</td>\n",
       "      <td>122</td>\n",
       "      <td>71</td>\n",
       "      <td>0</td>\n",
       "    </tr>\n",
       "    <tr>\n",
       "      <th>2</th>\n",
       "      <td>1</td>\n",
       "      <td>3</td>\n",
       "      <td>309</td>\n",
       "      <td>0</td>\n",
       "      <td>290</td>\n",
       "      <td>2</td>\n",
       "      <td>17</td>\n",
       "      <td>166</td>\n",
       "      <td>0</td>\n",
       "      <td>7</td>\n",
       "      <td>29</td>\n",
       "      <td>89</td>\n",
       "      <td>18</td>\n",
       "      <td>0</td>\n",
       "    </tr>\n",
       "    <tr>\n",
       "      <th>3</th>\n",
       "      <td>1</td>\n",
       "      <td>4</td>\n",
       "      <td>244</td>\n",
       "      <td>0</td>\n",
       "      <td>208</td>\n",
       "      <td>2</td>\n",
       "      <td>34</td>\n",
       "      <td>107</td>\n",
       "      <td>12</td>\n",
       "      <td>1</td>\n",
       "      <td>31</td>\n",
       "      <td>53</td>\n",
       "      <td>40</td>\n",
       "      <td>0</td>\n",
       "    </tr>\n",
       "    <tr>\n",
       "      <th>4</th>\n",
       "      <td>1</td>\n",
       "      <td>5</td>\n",
       "      <td>166</td>\n",
       "      <td>0</td>\n",
       "      <td>152</td>\n",
       "      <td>1</td>\n",
       "      <td>13</td>\n",
       "      <td>83</td>\n",
       "      <td>0</td>\n",
       "      <td>2</td>\n",
       "      <td>21</td>\n",
       "      <td>49</td>\n",
       "      <td>11</td>\n",
       "      <td>0</td>\n",
       "    </tr>\n",
       "  </tbody>\n",
       "</table>\n",
       "</div>"
      ],
      "text/plain": [
       "   day  hour  trayectos  tipo0  tipo1  tipo2  tipo3  range0  range1  range2  \\\n",
       "0    1     1        553      0    474     17     62     252      14       5   \n",
       "1    1     2        438      0    369      3     66     196      19       4   \n",
       "2    1     3        309      0    290      2     17     166       0       7   \n",
       "3    1     4        244      0    208      2     34     107      12       1   \n",
       "4    1     5        166      0    152      1     13      83       0       2   \n",
       "\n",
       "   range3  range4  range5  range6  \n",
       "0      43     156      83       0  \n",
       "1      26     122      71       0  \n",
       "2      29      89      18       0  \n",
       "3      31      53      40       0  \n",
       "4      21      49      11       0  "
      ]
     },
     "execution_count": 14,
     "metadata": {},
     "output_type": "execute_result"
    }
   ],
   "source": [
    "df2.head()"
   ]
  },
  {
   "cell_type": "markdown",
   "metadata": {},
   "source": [
    "Calculamos los porcentajes, dividiendo cada columna por el numero de trayectos para ese dia y esa hora"
   ]
  },
  {
   "cell_type": "code",
   "execution_count": 15,
   "metadata": {},
   "outputs": [
    {
     "data": {
      "text/html": [
       "<div>\n",
       "<style scoped>\n",
       "    .dataframe tbody tr th:only-of-type {\n",
       "        vertical-align: middle;\n",
       "    }\n",
       "\n",
       "    .dataframe tbody tr th {\n",
       "        vertical-align: top;\n",
       "    }\n",
       "\n",
       "    .dataframe thead th {\n",
       "        text-align: right;\n",
       "    }\n",
       "</style>\n",
       "<table border=\"1\" class=\"dataframe\">\n",
       "  <thead>\n",
       "    <tr style=\"text-align: right;\">\n",
       "      <th></th>\n",
       "      <th>tipo0</th>\n",
       "      <th>tipo1</th>\n",
       "      <th>tipo2</th>\n",
       "      <th>tipo3</th>\n",
       "      <th>range0</th>\n",
       "      <th>range1</th>\n",
       "      <th>range2</th>\n",
       "      <th>range3</th>\n",
       "      <th>range4</th>\n",
       "      <th>range5</th>\n",
       "      <th>range6</th>\n",
       "    </tr>\n",
       "  </thead>\n",
       "  <tbody>\n",
       "    <tr>\n",
       "      <th>0</th>\n",
       "      <td>0.0</td>\n",
       "      <td>0.857143</td>\n",
       "      <td>0.030741</td>\n",
       "      <td>0.112116</td>\n",
       "      <td>0.455696</td>\n",
       "      <td>0.025316</td>\n",
       "      <td>0.009042</td>\n",
       "      <td>0.077758</td>\n",
       "      <td>0.282098</td>\n",
       "      <td>0.150090</td>\n",
       "      <td>0.0</td>\n",
       "    </tr>\n",
       "    <tr>\n",
       "      <th>1</th>\n",
       "      <td>0.0</td>\n",
       "      <td>0.842466</td>\n",
       "      <td>0.006849</td>\n",
       "      <td>0.150685</td>\n",
       "      <td>0.447489</td>\n",
       "      <td>0.043379</td>\n",
       "      <td>0.009132</td>\n",
       "      <td>0.059361</td>\n",
       "      <td>0.278539</td>\n",
       "      <td>0.162100</td>\n",
       "      <td>0.0</td>\n",
       "    </tr>\n",
       "    <tr>\n",
       "      <th>2</th>\n",
       "      <td>0.0</td>\n",
       "      <td>0.938511</td>\n",
       "      <td>0.006472</td>\n",
       "      <td>0.055016</td>\n",
       "      <td>0.537217</td>\n",
       "      <td>0.000000</td>\n",
       "      <td>0.022654</td>\n",
       "      <td>0.093851</td>\n",
       "      <td>0.288026</td>\n",
       "      <td>0.058252</td>\n",
       "      <td>0.0</td>\n",
       "    </tr>\n",
       "    <tr>\n",
       "      <th>3</th>\n",
       "      <td>0.0</td>\n",
       "      <td>0.852459</td>\n",
       "      <td>0.008197</td>\n",
       "      <td>0.139344</td>\n",
       "      <td>0.438525</td>\n",
       "      <td>0.049180</td>\n",
       "      <td>0.004098</td>\n",
       "      <td>0.127049</td>\n",
       "      <td>0.217213</td>\n",
       "      <td>0.163934</td>\n",
       "      <td>0.0</td>\n",
       "    </tr>\n",
       "    <tr>\n",
       "      <th>4</th>\n",
       "      <td>0.0</td>\n",
       "      <td>0.915663</td>\n",
       "      <td>0.006024</td>\n",
       "      <td>0.078313</td>\n",
       "      <td>0.500000</td>\n",
       "      <td>0.000000</td>\n",
       "      <td>0.012048</td>\n",
       "      <td>0.126506</td>\n",
       "      <td>0.295181</td>\n",
       "      <td>0.066265</td>\n",
       "      <td>0.0</td>\n",
       "    </tr>\n",
       "  </tbody>\n",
       "</table>\n",
       "</div>"
      ],
      "text/plain": [
       "   tipo0     tipo1     tipo2     tipo3    range0    range1    range2  \\\n",
       "0    0.0  0.857143  0.030741  0.112116  0.455696  0.025316  0.009042   \n",
       "1    0.0  0.842466  0.006849  0.150685  0.447489  0.043379  0.009132   \n",
       "2    0.0  0.938511  0.006472  0.055016  0.537217  0.000000  0.022654   \n",
       "3    0.0  0.852459  0.008197  0.139344  0.438525  0.049180  0.004098   \n",
       "4    0.0  0.915663  0.006024  0.078313  0.500000  0.000000  0.012048   \n",
       "\n",
       "     range3    range4    range5  range6  \n",
       "0  0.077758  0.282098  0.150090     0.0  \n",
       "1  0.059361  0.278539  0.162100     0.0  \n",
       "2  0.093851  0.288026  0.058252     0.0  \n",
       "3  0.127049  0.217213  0.163934     0.0  \n",
       "4  0.126506  0.295181  0.066265     0.0  "
      ]
     },
     "execution_count": 15,
     "metadata": {},
     "output_type": "execute_result"
    }
   ],
   "source": [
    "df3 = df2.iloc[:, 3:].div(df2['trayectos'], axis=0)\n",
    "df3.head()"
   ]
  },
  {
   "cell_type": "markdown",
   "metadata": {},
   "source": [
    "Y añadimos la duracion media de los trayectos por dia y hora"
   ]
  },
  {
   "cell_type": "code",
   "execution_count": 16,
   "metadata": {},
   "outputs": [
    {
     "data": {
      "text/html": [
       "<div>\n",
       "<style scoped>\n",
       "    .dataframe tbody tr th:only-of-type {\n",
       "        vertical-align: middle;\n",
       "    }\n",
       "\n",
       "    .dataframe tbody tr th {\n",
       "        vertical-align: top;\n",
       "    }\n",
       "\n",
       "    .dataframe thead th {\n",
       "        text-align: right;\n",
       "    }\n",
       "</style>\n",
       "<table border=\"1\" class=\"dataframe\">\n",
       "  <thead>\n",
       "    <tr style=\"text-align: right;\">\n",
       "      <th></th>\n",
       "      <th>day</th>\n",
       "      <th>hour</th>\n",
       "      <th>travel_time</th>\n",
       "    </tr>\n",
       "  </thead>\n",
       "  <tbody>\n",
       "    <tr>\n",
       "      <th>0</th>\n",
       "      <td>1</td>\n",
       "      <td>1</td>\n",
       "      <td>746.216433</td>\n",
       "    </tr>\n",
       "    <tr>\n",
       "      <th>1</th>\n",
       "      <td>1</td>\n",
       "      <td>2</td>\n",
       "      <td>728.002695</td>\n",
       "    </tr>\n",
       "    <tr>\n",
       "      <th>2</th>\n",
       "      <td>1</td>\n",
       "      <td>3</td>\n",
       "      <td>655.066434</td>\n",
       "    </tr>\n",
       "    <tr>\n",
       "      <th>3</th>\n",
       "      <td>1</td>\n",
       "      <td>4</td>\n",
       "      <td>708.842342</td>\n",
       "    </tr>\n",
       "    <tr>\n",
       "      <th>4</th>\n",
       "      <td>1</td>\n",
       "      <td>5</td>\n",
       "      <td>649.918919</td>\n",
       "    </tr>\n",
       "  </tbody>\n",
       "</table>\n",
       "</div>"
      ],
      "text/plain": [
       "   day  hour  travel_time\n",
       "0    1     1   746.216433\n",
       "1    1     2   728.002695\n",
       "2    1     3   655.066434\n",
       "3    1     4   708.842342\n",
       "4    1     5   649.918919"
      ]
     },
     "execution_count": 16,
     "metadata": {},
     "output_type": "execute_result"
    }
   ],
   "source": [
    "df4 = bicis.loc[bicis.travel_time<=2000].groupby(['day', 'hour']).agg({'travel_time':'mean'}).reset_index().rename(columns={0:'duracion_media'})\n",
    "df4.head()\n"
   ]
  },
  {
   "cell_type": "markdown",
   "metadata": {},
   "source": [
    "Unimos todos los dataframes para tener toda la información unificada"
   ]
  },
  {
   "cell_type": "code",
   "execution_count": 17,
   "metadata": {},
   "outputs": [],
   "source": [
    "x1 = pd.concat([a1[['day', 'hour']], df3], axis=1)"
   ]
  },
  {
   "cell_type": "code",
   "execution_count": 18,
   "metadata": {},
   "outputs": [],
   "source": [
    "x2 = x1.merge(df4, how='left', on=['day', 'hour'])"
   ]
  },
  {
   "cell_type": "code",
   "execution_count": 19,
   "metadata": {},
   "outputs": [],
   "source": [
    "dia_finde = bicis.groupby(['day', 'finde']).size().reset_index()\n",
    "x3 = x2.merge(dia_finde[['day', 'finde']], how='left', on='day')"
   ]
  },
  {
   "cell_type": "markdown",
   "metadata": {},
   "source": [
    "Y finalmente tenemos el dataframe que servirá como input de nuestro modelo"
   ]
  },
  {
   "cell_type": "code",
   "execution_count": 20,
   "metadata": {},
   "outputs": [
    {
     "data": {
      "text/html": [
       "<div>\n",
       "<style scoped>\n",
       "    .dataframe tbody tr th:only-of-type {\n",
       "        vertical-align: middle;\n",
       "    }\n",
       "\n",
       "    .dataframe tbody tr th {\n",
       "        vertical-align: top;\n",
       "    }\n",
       "\n",
       "    .dataframe thead th {\n",
       "        text-align: right;\n",
       "    }\n",
       "</style>\n",
       "<table border=\"1\" class=\"dataframe\">\n",
       "  <thead>\n",
       "    <tr style=\"text-align: right;\">\n",
       "      <th></th>\n",
       "      <th>day</th>\n",
       "      <th>hour</th>\n",
       "      <th>trayectos</th>\n",
       "      <th>tipo0</th>\n",
       "      <th>tipo1</th>\n",
       "      <th>tipo2</th>\n",
       "      <th>tipo3</th>\n",
       "      <th>range0</th>\n",
       "      <th>range1</th>\n",
       "      <th>range2</th>\n",
       "      <th>range3</th>\n",
       "      <th>range4</th>\n",
       "      <th>range5</th>\n",
       "      <th>range6</th>\n",
       "      <th>travel_time</th>\n",
       "      <th>finde</th>\n",
       "    </tr>\n",
       "  </thead>\n",
       "  <tbody>\n",
       "    <tr>\n",
       "      <th>0</th>\n",
       "      <td>1</td>\n",
       "      <td>1</td>\n",
       "      <td>553</td>\n",
       "      <td>0.0</td>\n",
       "      <td>0.857143</td>\n",
       "      <td>0.030741</td>\n",
       "      <td>0.112116</td>\n",
       "      <td>0.455696</td>\n",
       "      <td>0.025316</td>\n",
       "      <td>0.009042</td>\n",
       "      <td>0.077758</td>\n",
       "      <td>0.282098</td>\n",
       "      <td>0.150090</td>\n",
       "      <td>0.0</td>\n",
       "      <td>746.216433</td>\n",
       "      <td>1</td>\n",
       "    </tr>\n",
       "    <tr>\n",
       "      <th>1</th>\n",
       "      <td>1</td>\n",
       "      <td>2</td>\n",
       "      <td>438</td>\n",
       "      <td>0.0</td>\n",
       "      <td>0.842466</td>\n",
       "      <td>0.006849</td>\n",
       "      <td>0.150685</td>\n",
       "      <td>0.447489</td>\n",
       "      <td>0.043379</td>\n",
       "      <td>0.009132</td>\n",
       "      <td>0.059361</td>\n",
       "      <td>0.278539</td>\n",
       "      <td>0.162100</td>\n",
       "      <td>0.0</td>\n",
       "      <td>728.002695</td>\n",
       "      <td>1</td>\n",
       "    </tr>\n",
       "    <tr>\n",
       "      <th>2</th>\n",
       "      <td>1</td>\n",
       "      <td>3</td>\n",
       "      <td>309</td>\n",
       "      <td>0.0</td>\n",
       "      <td>0.938511</td>\n",
       "      <td>0.006472</td>\n",
       "      <td>0.055016</td>\n",
       "      <td>0.537217</td>\n",
       "      <td>0.000000</td>\n",
       "      <td>0.022654</td>\n",
       "      <td>0.093851</td>\n",
       "      <td>0.288026</td>\n",
       "      <td>0.058252</td>\n",
       "      <td>0.0</td>\n",
       "      <td>655.066434</td>\n",
       "      <td>1</td>\n",
       "    </tr>\n",
       "    <tr>\n",
       "      <th>3</th>\n",
       "      <td>1</td>\n",
       "      <td>4</td>\n",
       "      <td>244</td>\n",
       "      <td>0.0</td>\n",
       "      <td>0.852459</td>\n",
       "      <td>0.008197</td>\n",
       "      <td>0.139344</td>\n",
       "      <td>0.438525</td>\n",
       "      <td>0.049180</td>\n",
       "      <td>0.004098</td>\n",
       "      <td>0.127049</td>\n",
       "      <td>0.217213</td>\n",
       "      <td>0.163934</td>\n",
       "      <td>0.0</td>\n",
       "      <td>708.842342</td>\n",
       "      <td>1</td>\n",
       "    </tr>\n",
       "    <tr>\n",
       "      <th>4</th>\n",
       "      <td>1</td>\n",
       "      <td>5</td>\n",
       "      <td>166</td>\n",
       "      <td>0.0</td>\n",
       "      <td>0.915663</td>\n",
       "      <td>0.006024</td>\n",
       "      <td>0.078313</td>\n",
       "      <td>0.500000</td>\n",
       "      <td>0.000000</td>\n",
       "      <td>0.012048</td>\n",
       "      <td>0.126506</td>\n",
       "      <td>0.295181</td>\n",
       "      <td>0.066265</td>\n",
       "      <td>0.0</td>\n",
       "      <td>649.918919</td>\n",
       "      <td>1</td>\n",
       "    </tr>\n",
       "  </tbody>\n",
       "</table>\n",
       "</div>"
      ],
      "text/plain": [
       "   day  hour  trayectos  tipo0     tipo1     tipo2     tipo3    range0  \\\n",
       "0    1     1        553    0.0  0.857143  0.030741  0.112116  0.455696   \n",
       "1    1     2        438    0.0  0.842466  0.006849  0.150685  0.447489   \n",
       "2    1     3        309    0.0  0.938511  0.006472  0.055016  0.537217   \n",
       "3    1     4        244    0.0  0.852459  0.008197  0.139344  0.438525   \n",
       "4    1     5        166    0.0  0.915663  0.006024  0.078313  0.500000   \n",
       "\n",
       "     range1    range2    range3    range4    range5  range6  travel_time  \\\n",
       "0  0.025316  0.009042  0.077758  0.282098  0.150090     0.0   746.216433   \n",
       "1  0.043379  0.009132  0.059361  0.278539  0.162100     0.0   728.002695   \n",
       "2  0.000000  0.022654  0.093851  0.288026  0.058252     0.0   655.066434   \n",
       "3  0.049180  0.004098  0.127049  0.217213  0.163934     0.0   708.842342   \n",
       "4  0.000000  0.012048  0.126506  0.295181  0.066265     0.0   649.918919   \n",
       "\n",
       "   finde  \n",
       "0      1  \n",
       "1      1  \n",
       "2      1  \n",
       "3      1  \n",
       "4      1  "
      ]
     },
     "execution_count": 20,
     "metadata": {},
     "output_type": "execute_result"
    }
   ],
   "source": [
    "dataset = df.merge(x3, how='left', on=['day', 'hour'])\n",
    "dataset.head()"
   ]
  },
  {
   "cell_type": "markdown",
   "metadata": {},
   "source": [
    "### Entrenamiento del modelo"
   ]
  },
  {
   "cell_type": "markdown",
   "metadata": {},
   "source": [
    "En este caso usaremos un random forest regresor"
   ]
  },
  {
   "cell_type": "code",
   "execution_count": 23,
   "metadata": {},
   "outputs": [],
   "source": [
    "from sklearn.ensemble import RandomForestRegressor\n",
    "from sklearn.model_selection import train_test_split\n",
    "from sklearn.metrics import mean_squared_error"
   ]
  },
  {
   "cell_type": "markdown",
   "metadata": {},
   "source": [
    "Definimos nuestro conjunto de features y el target, excluimos los usuarios sin tipo ni rango de edad"
   ]
  },
  {
   "cell_type": "code",
   "execution_count": 21,
   "metadata": {},
   "outputs": [],
   "source": [
    "X = dataset.drop(columns=['trayectos', 'tipo0', 'range0']).values\n",
    "y = dataset['trayectos'].values"
   ]
  },
  {
   "cell_type": "markdown",
   "metadata": {},
   "source": [
    "Entrenamos el modelo con 70% train y 30% test, usaremos 1000 arboles de decision y criterio de error cuadratico medio al ser un regresor"
   ]
  },
  {
   "cell_type": "code",
   "execution_count": 24,
   "metadata": {},
   "outputs": [
    {
     "data": {
      "text/plain": [
       "RandomForestRegressor(bootstrap=True, criterion='mse', max_depth=None,\n",
       "           max_features='auto', max_leaf_nodes=None,\n",
       "           min_impurity_decrease=0.0, min_impurity_split=None,\n",
       "           min_samples_leaf=1, min_samples_split=2,\n",
       "           min_weight_fraction_leaf=0.0, n_estimators=1000, n_jobs=-1,\n",
       "           oob_score=False, random_state=42, verbose=0, warm_start=False)"
      ]
     },
     "execution_count": 24,
     "metadata": {},
     "output_type": "execute_result"
    }
   ],
   "source": [
    "X_train, X_test, y_train, y_test = train_test_split(X, y, test_size=.3, random_state=42)\n",
    "forest = RandomForestRegressor(n_estimators=1000, criterion='mse', random_state=42, n_jobs=-1)\n",
    "forest.fit(X_train, y_train)\n"
   ]
  },
  {
   "cell_type": "markdown",
   "metadata": {},
   "source": [
    "Veamos el MSE de nuestro modelo"
   ]
  },
  {
   "cell_type": "code",
   "execution_count": 25,
   "metadata": {},
   "outputs": [
    {
     "name": "stdout",
     "output_type": "stream",
     "text": [
      "MSE train: 1764.144, test: 10255.370\n"
     ]
    }
   ],
   "source": [
    "y_train_pred = forest.predict(X_train)\n",
    "y_test_pred = forest.predict(X_test)\n",
    "print('MSE train: %.3f, test: %.3f' % (mean_squared_error(y_train, y_train_pred), mean_squared_error(y_test, y_test_pred)))"
   ]
  },
  {
   "cell_type": "markdown",
   "metadata": {},
   "source": [
    "vemos que el modelo tiene a sobreajustar al conjunto de train, al tener un error mucho menor en training que en test"
   ]
  },
  {
   "cell_type": "code",
   "execution_count": 27,
   "metadata": {},
   "outputs": [
    {
     "name": "stdout",
     "output_type": "stream",
     "text": [
      "R^2 train: 0.987, test: 0.927\n"
     ]
    }
   ],
   "source": [
    "print('R^2 train: %.3f, test: %.3f' % (forest.score(X_train, y_train), forest.score(X_test, y_test)))"
   ]
  },
  {
   "cell_type": "markdown",
   "metadata": {},
   "source": [
    "sin embargo podemos observar que explica bien la relacion entre las variables explicativas y el target por tener un valor elevado de R^2"
   ]
  },
  {
   "cell_type": "markdown",
   "metadata": {},
   "source": [
    "Finalmente podemos representar la distribución de los residuos, para ver si se distribuyen de forma aleatoria en torno al 0"
   ]
  },
  {
   "cell_type": "code",
   "execution_count": 30,
   "metadata": {},
   "outputs": [
    {
     "data": {
      "image/png": "[encoded data removed]",
      "text/plain": [
       "<Figure size 720x432 with 1 Axes>"
      ]
     },
     "metadata": {
      "needs_background": "light"
     },
     "output_type": "display_data"
    }
   ],
   "source": [
    "fig = plt.figure(figsize=(10,6))\n",
    "plt.scatter(y_train_pred, y_train_pred-y_train, c='steelblue', edgecolor='white', marker='o', s=35, alpha=.9, label='Train data')\n",
    "plt.scatter(y_test_pred, y_test_pred-y_test, c='limegreen', edgecolor='white', marker='s', s=35, alpha=.9, label='Test data')\n",
    "\n",
    "plt.xlabel('predicciones')\n",
    "plt.ylabel('residuos')\n",
    "plt.legend(loc='upper left')\n",
    "plt.hlines(y=0, xmin=0, xmax=1500, lw=2, color='black')\n",
    "plt.xlim([0, 1500])\n",
    "plt.show()"
   ]
  },
  {
   "cell_type": "markdown",
   "metadata": {},
   "source": [
    "Comprobamos que los residuos no se distribuyen de forma totalmente aleatoria en torno al 0, como idealmente deberia ser si los errores fueran aleatorios. Para subsanar este problema no existe una forma genérica, pero algunas de las opciones podrían ser probar modelos mas complejos o generar nuevas variables."
   ]
  }
 ],
 "metadata": {
  "kernelspec": {
   "display_name": "Python 3",
   "language": "python",
   "name": "python3"
  },
  "language_info": {
   "codemirror_mode": {
    "name": "ipython",
    "version": 3
   },
   "file_extension": ".py",
   "mimetype": "text/x-python",
   "name": "python",
   "nbconvert_exporter": "python",
   "pygments_lexer": "ipython3",
   "version": "3.6.1"
  }
 },
 "nbformat": 4,
 "nbformat_minor": 4
}
